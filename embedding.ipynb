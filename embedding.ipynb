{
 "cells": [
  {
   "cell_type": "markdown",
   "id": "fac6201e",
   "metadata": {
    "vscode": {
     "languageId": "powershell"
    }
   },
   "source": [
    "# 📦 Формат: бинарный .bin (word2vec Binary Format)\n",
    "\n",
    "Это не обычный текстовый файл, а бинарная модель, созданная с помощью Word2Vec (CBOW или Skip-gram).\n",
    "\n",
    "Размер векторов: 300\n",
    "\n",
    "Используется с библиотекой gensim:\n"
   ]
  },
  {
   "cell_type": "markdown",
   "id": "8b981c06",
   "metadata": {},
   "source": [
    "### 🔧 Пример загрузки в Python:\n",
    "\n"
   ]
  },
  {
   "cell_type": "code",
   "execution_count": null,
   "id": "9772b1cc",
   "metadata": {},
   "outputs": [],
   "source": [
    "from gensim.models import KeyedVectors\n",
    "\n",
    "# Загрузка бинарного файла\n",
    "model = KeyedVectors.load_word2vec_format('GoogleNews-vectors-negative300.bin', binary=True)\n",
    "\n",
    "# Пример использования\n",
    "print(model['cat'])           # вектор (300 чисел)\n",
    "print(model.most_similar('king'))  # похожие слова\n"
   ]
  },
  {
   "cell_type": "markdown",
   "id": "fbf47931",
   "metadata": {},
   "source": [
    "### ✅ Варианты получить word2vec для узбекского:\n"
   ]
  },
  {
   "cell_type": "markdown",
   "id": "a5d99e01",
   "metadata": {},
   "source": [
    "1. FastText для узбекского (можно конвертировать в .bin)\n"
   ]
  },
  {
   "cell_type": "code",
   "execution_count": null,
   "id": "a833c15e",
   "metadata": {},
   "outputs": [
    {
     "ename": "SyntaxError",
     "evalue": "invalid syntax (4135119900.py, line 1)",
     "output_type": "error",
     "traceback": [
      "\u001b[1;36m  File \u001b[1;32m\"C:\\Users\\User\\AppData\\Local\\Temp\\ipykernel_12636\\4135119900.py\"\u001b[1;36m, line \u001b[1;32m1\u001b[0m\n\u001b[1;33m    wget https://dl.fbaipublicfiles.com/fasttext/vectors-crawl/cc.uz.300.vec.gz\u001b[0m\n\u001b[1;37m             ^\u001b[0m\n\u001b[1;31mSyntaxError\u001b[0m\u001b[1;31m:\u001b[0m invalid syntax\n"
     ]
    }
   ],
   "source": [
    "import requests\n",
    "import gzip\n",
    "import shutil\n",
    "\n",
    "# 1. Скачиваем файл .gz\n",
    "url = \"https://dl.fbaipublicfiles.com/fasttext/vectors-crawl/cc.uz.300.vec.gz\"\n",
    "gz_filename = \"cc.uz.300.vec.gz\"\n",
    "vec_filename = \"cc.uz.300.vec\"\n",
    "\n",
    "print(\"Скачиваем файл...\")\n",
    "response = requests.get(url, stream=True)\n",
    "with open(gz_filename, 'wb') as f:\n",
    "    shutil.copyfileobj(response.raw, f)\n",
    "print(\"Файл скачан:\", gz_filename)\n",
    "\n",
    "# 2. Распаковываем .gz\n",
    "print(\"Распаковываем файл...\")\n",
    "with gzip.open(gz_filename, 'rb') as f_in:\n",
    "    with open(vec_filename, 'wb') as f_out:\n",
    "        shutil.copyfileobj(f_in, f_out)\n",
    "print(\"Файл распакован:\", vec_filename)\n"
   ]
  },
  {
   "cell_type": "code",
   "execution_count": null,
   "id": "be2fd43b",
   "metadata": {},
   "outputs": [],
   "source": [
    "from gensim.models import KeyedVectors\n",
    "\n",
    "# Загрузка текстовой модели\n",
    "model = KeyedVectors.load_word2vec_format('cc.uz.300.vec', binary=False)\n",
    "\n",
    "# Сохранение в бинарный .bin формат\n",
    "model.save_word2vec_format('uzbek-word2vec.bin', binary=True)\n"
   ]
  },
  {
   "cell_type": "markdown",
   "id": "a7f0b5d0",
   "metadata": {},
   "source": [
    "### Получить файл uzbek_embedding.txt (аналог yelp_embedding.txt) в формате:\n",
    "\n",
    "## План действий:\n",
    "# Шаг 1. 📦 Найти или собрать узбекский корпус отзывов\n",
    "Варианты:\n",
    "Uzbek Wikipedia (нейтральный, не отзывы, но пригодится)\n",
    "\n",
    "Платформы типа olx.uz, booking.com, telegram отзыв-боты (можно парсить)\n",
    "\n",
    "Я могу автоматом собрать мелкий набор отзывов как пример — подходит?\n",
    "\n",
    "# Шаг 2. 🤖 Обучить модель Word2Vec\n",
    "Используем gensim\n",
    "\n",
    "Можно задать:\n",
    "\n",
    "размер векторов (например, 100)\n",
    "\n",
    "min_count (сколько раз слово должно встретиться)\n",
    "\n",
    "# Шаг 3. 💾 Сохранить в uzbek_embedding.txt\n",
    "Сохраняем в .txt формате: слово + 100 векторов\n"
   ]
  },
  {
   "cell_type": "markdown",
   "id": "04d1a95d",
   "metadata": {},
   "source": [
    "📥 Шаг 1: Загрузка и подготовка данных\n"
   ]
  },
  {
   "cell_type": "code",
   "execution_count": 3,
   "id": "1ad92e0f",
   "metadata": {},
   "outputs": [
    {
     "name": "stdout",
     "output_type": "stream",
     "text": [
      "Файл успешно загружен как uz_reviews.csv\n"
     ]
    }
   ],
   "source": [
    "import requests\n",
    "\n",
    "url = \"https://huggingface.co/datasets/Sanatbek/Uzbek-restaurant-domain-sentiment-reviews/resolve/main/uzbek_restaurant_supervised_reviews.csv\"\n",
    "\n",
    "response = requests.get(url)\n",
    "\n",
    "with open(\"uz_reviews.csv\", \"wb\") as f:\n",
    "    f.write(response.content)\n",
    "\n",
    "print(\"Файл успешно загружен как uz_reviews.csv\")\n"
   ]
  },
  {
   "cell_type": "code",
   "execution_count": 5,
   "id": "08eccbc9",
   "metadata": {},
   "outputs": [],
   "source": [
    "import pandas as pd\n",
    "\n",
    "# Загрузка CSV-файла\n",
    "df = pd.read_csv('uz_reviews.csv')\n",
    "\n",
    "# Сохраняем только колонку \"review\" в текстовый файл без заголовков и индексов\n",
    "df['review'].to_csv('uz_reviews.txt', index=False, header=False)\n"
   ]
  },
  {
   "cell_type": "markdown",
   "id": "508626cd",
   "metadata": {},
   "source": [
    "🧠 Шаг 2: Обучение модели Word2Vec\n"
   ]
  },
  {
   "cell_type": "code",
   "execution_count": 7,
   "id": "62b24433",
   "metadata": {},
   "outputs": [],
   "source": [
    "from gensim.models import Word2Vec\n",
    "from gensim.utils import simple_preprocess\n",
    "\n",
    "# Загрузка и токенизация отзывов\n",
    "with open('uz_reviews.txt', 'r', encoding='utf-8') as f:\n",
    "    corpus = f.readlines()\n",
    "\n",
    "sentences = [simple_preprocess(line) for line in corpus]\n",
    "\n",
    "# Обучение модели Word2Vec\n",
    "model = Word2Vec(sentences, vector_size=100, window=5, min_count=2, workers=4)\n",
    "\n",
    "# Сохранение модели в формате .txt\n",
    "model.wv.save_word2vec_format('uzbek_embedding.txt', binary=False)\n"
   ]
  },
  {
   "cell_type": "markdown",
   "id": "ab4e5aec",
   "metadata": {},
   "source": [
    "Как получить эмбеддинги для узбекского языка в формате yelp_words.txt?\n",
    "1. Найти корпус отзывов на узбекском\n",
    "- Например, ты уже упоминал датасет:\n",
    "https://huggingface.co/datasets/Sanatbek/Uzbek-restaurant-domain-sentiment-reviews\n",
    "Это именно отзывы на узбекском, можно использовать их.\n",
    "\n",
    "2. Подготовить корпус текстов\n",
    "- Извлечь все отзывы из датасета, сохранить в файл uzbek_reviews.txt (каждый отзыв — отдельная строка)\n",
    "\n",
    "3. Обучить эмбеддинги Word2Vec (или FastText) на этом корпусе"
   ]
  },
  {
   "cell_type": "code",
   "execution_count": 26,
   "id": "9caa97cc",
   "metadata": {},
   "outputs": [],
   "source": [
    "from gensim.models import Word2Vec\n",
    "from gensim.utils import simple_preprocess\n",
    "\n",
    "with open('uz_reviews.txt', 'r', encoding='utf-8') as f:\n",
    "    corpus = f.readlines()\n",
    "\n",
    "sentences = [simple_preprocess(line) for line in corpus]\n",
    "\n",
    "model = Word2Vec(sentences, vector_size=300, window=5, min_count=2, workers=4)\n",
    "\n",
    "model.wv.save_word2vec_format('yelp_words.txt', binary=False)\n"
   ]
  },
  {
   "cell_type": "markdown",
   "id": "57853355",
   "metadata": {},
   "source": [
    "4. В итоге получишь файл yelp_words.txt — эмбеддинги узбекских слов из отзывов.\n",
    "\n",
    "Полный пример скачивания датасета, подготовки и обучения:\n",
    "\n"
   ]
  },
  {
   "cell_type": "code",
   "execution_count": null,
   "id": "695b1e52",
   "metadata": {},
   "outputs": [],
   "source": [
    "import pandas as pd\n",
    "from gensim.models import Word2Vec\n",
    "from gensim.utils import simple_preprocess\n",
    "import requests\n",
    "\n",
    "# 1. Скачиваем датасет (если еще не скачан)\n",
    "url = \"https://huggingface.co/datasets/Sanatbek/Uzbek-restaurant-domain-sentiment-reviews/resolve/main/uzbek_restaurant_supervised_reviews.csv\"\n",
    "csv_file = \"uzbek_reviews.csv\"\n",
    "r = requests.get(url)\n",
    "with open(csv_file, 'wb') as f:\n",
    "    f.write(r.content)\n",
    "\n",
    "# 2. Загружаем отзывы\n",
    "df = pd.read_csv(csv_file)\n",
    "reviews = df['review'].dropna().tolist()\n",
    "\n",
    "# 3. Сохраняем отзывы в текстовый файл (каждый отзыв на отдельной строке)\n",
    "with open('uz_reviews.txt', 'w', encoding='utf-8') as f:\n",
    "    for review in reviews:\n",
    "        if isinstance(review, str) and review.strip():\n",
    "            f.write(review.strip() + '\\n')\n",
    "\n",
    "# 4. Загружаем и токенизируем\n",
    "with open('uz_reviews.txt', 'r', encoding='utf-8') as f:\n",
    "    corpus = f.readlines()\n",
    "sentences = [simple_preprocess(line) for line in corpus]\n",
    "\n",
    "# 5. Обучаем Word2Vec\n",
    "model = Word2Vec(sentences, vector_size=300, window=5, min_count=2, workers=4)\n",
    "\n",
    "# 6. Сохраняем в текстовом формате (как yelp_words.txt)\n",
    "model.wv.save_word2vec_format('yelp_words.txt', binary=False)\n"
   ]
  },
  {
   "cell_type": "markdown",
   "id": "b1294d7d",
   "metadata": {},
   "source": [
    "### ✅ Как обучить GloVe на узбекском (на своём корпусе)\n"
   ]
  },
  {
   "cell_type": "markdown",
   "id": "ab305cca",
   "metadata": {},
   "source": [
    "✅ Установи нужные библиотеки:\n",
    "\n"
   ]
  },
  {
   "cell_type": "code",
   "execution_count": 13,
   "id": "0992606c",
   "metadata": {
    "vscode": {
     "languageId": "powershell"
    }
   },
   "outputs": [
    {
     "name": "stdout",
     "output_type": "stream",
     "text": [
      "Requirement already satisfied: pandas in c:\\users\\user\\appdata\\local\\programs\\python\\python37\\lib\\site-packages (1.3.5)Note: you may need to restart the kernel to use updated packages.\n",
      "\n",
      "Requirement already satisfied: requests in c:\\users\\user\\appdata\\local\\programs\\python\\python37\\lib\\site-packages (2.31.0)\n",
      "Requirement already satisfied: glove-python-binary in c:\\users\\user\\appdata\\local\\programs\\python\\python37\\lib\\site-packages (0.2.0)\n",
      "Requirement already satisfied: gensim in c:\\users\\user\\appdata\\local\\programs\\python\\python37\\lib\\site-packages (4.2.0)\n",
      "Requirement already satisfied: python-dateutil>=2.7.3 in c:\\users\\user\\appdata\\local\\programs\\python\\python37\\lib\\site-packages (from pandas) (2.9.0.post0)\n",
      "Requirement already satisfied: pytz>=2017.3 in c:\\users\\user\\appdata\\local\\programs\\python\\python37\\lib\\site-packages (from pandas) (2025.2)\n",
      "Requirement already satisfied: numpy>=1.17.3 in c:\\users\\user\\appdata\\local\\programs\\python\\python37\\lib\\site-packages (from pandas) (1.21.6)\n",
      "Requirement already satisfied: charset-normalizer<4,>=2 in c:\\users\\user\\appdata\\local\\programs\\python\\python37\\lib\\site-packages (from requests) (3.4.1)\n",
      "Requirement already satisfied: idna<4,>=2.5 in c:\\users\\user\\appdata\\local\\programs\\python\\python37\\lib\\site-packages (from requests) (3.10)\n",
      "Requirement already satisfied: urllib3<3,>=1.21.1 in c:\\users\\user\\appdata\\local\\programs\\python\\python37\\lib\\site-packages (from requests) (2.0.7)\n",
      "Requirement already satisfied: certifi>=2017.4.17 in c:\\users\\user\\appdata\\local\\programs\\python\\python37\\lib\\site-packages (from requests) (2025.4.26)\n",
      "Requirement already satisfied: scipy in c:\\users\\user\\appdata\\local\\programs\\python\\python37\\lib\\site-packages (from glove-python-binary) (1.7.3)\n",
      "Requirement already satisfied: smart-open>=1.8.1 in c:\\users\\user\\appdata\\local\\programs\\python\\python37\\lib\\site-packages (from gensim) (7.1.0)\n",
      "Requirement already satisfied: Cython==0.29.28 in c:\\users\\user\\appdata\\local\\programs\\python\\python37\\lib\\site-packages (from gensim) (0.29.28)\n",
      "Requirement already satisfied: six>=1.5 in c:\\users\\user\\appdata\\local\\programs\\python\\python37\\lib\\site-packages (from python-dateutil>=2.7.3->pandas) (1.17.0)\n",
      "Requirement already satisfied: wrapt in c:\\users\\user\\appdata\\local\\programs\\python\\python37\\lib\\site-packages (from smart-open>=1.8.1->gensim) (1.16.0)\n"
     ]
    }
   ],
   "source": [
    "pip install pandas requests glove-python-binary gensim\n"
   ]
  },
  {
   "cell_type": "markdown",
   "id": "8cb41b0b",
   "metadata": {},
   "source": [
    "1: Использовать альтернативу GloVe — FastText\n"
   ]
  },
  {
   "cell_type": "code",
   "execution_count": 17,
   "id": "f15762e2",
   "metadata": {},
   "outputs": [
    {
     "name": "stdout",
     "output_type": "stream",
     "text": [
      "Векторный файл cc.uz.300.vec готов к использованию.\n"
     ]
    }
   ],
   "source": [
    "import requests\n",
    "import gzip\n",
    "import shutil\n",
    "\n",
    "# Скачиваем архив с векторами FastText\n",
    "url = \"https://dl.fbaipublicfiles.com/fasttext/vectors-crawl/cc.uz.300.vec.gz\"\n",
    "gz_file = \"cc.uz.300.vec.gz\"\n",
    "vec_file = \"cc.uz.300.vec\"\n",
    "\n",
    "# Скачиваем\n",
    "with requests.get(url, stream=True) as r:\n",
    "    r.raise_for_status()\n",
    "    with open(gz_file, \"wb\") as f:\n",
    "        for chunk in r.iter_content(chunk_size=8192):\n",
    "            f.write(chunk)\n",
    "\n",
    "# Распаковываем\n",
    "with gzip.open(gz_file, 'rb') as f_in:\n",
    "    with open(vec_file, 'wb') as f_out:\n",
    "        shutil.copyfileobj(f_in, f_out)\n",
    "\n",
    "print(f\"Векторный файл {vec_file} готов к использованию.\")\n"
   ]
  },
  {
   "cell_type": "markdown",
   "id": "297497c6",
   "metadata": {},
   "source": [
    "1. Загрузить векторы с помощью gensim\n",
    "\n"
   ]
  },
  {
   "cell_type": "code",
   "execution_count": 19,
   "id": "c263f40f",
   "metadata": {},
   "outputs": [
    {
     "name": "stdout",
     "output_type": "stream",
     "text": [
      "[('yaxshi-yaxshi', 0.6805984973907471), ('-yaxshi', 0.6398767828941345), ('Engyaxshi', 0.6159312129020691), ('yomon-yaxshi', 0.6139829158782959), ('374yaxshi', 0.6131339073181152), ('Yaxshi-yaxshi', 0.6108852624893188), ('yaxshii', 0.5992532968521118), ('yaxshi-yu', 0.5914546251296997), ('axshi', 0.5860336422920227), ('yaxshi-yomon', 0.5804401636123657)]\n"
     ]
    }
   ],
   "source": [
    "from gensim.models import KeyedVectors\n",
    "\n",
    "# Загружаем векторы (не бинарный формат)\n",
    "model = KeyedVectors.load_word2vec_format('cc.uz.300.vec', binary=False)\n",
    "\n",
    "# Проверим похожие слова для примера\n",
    "print(model.most_similar('yaxshi'))  # \"хороший\" по-узбекски\n"
   ]
  },
  {
   "cell_type": "markdown",
   "id": "98b22b29",
   "metadata": {},
   "source": [
    "2. Использовать векторы для задач NLP\n",
    "    - Поиск синонимов/похожих слов\n",
    "\n",
    "    - Кластеризация слов\n",
    "\n",
    "    - Векторизация отзывов (усреднение эмбеддингов слов)\n",
    "\n",
    "    - Использование как эмбеддинги в классификаторах (например, для анализа тональности)"
   ]
  },
  {
   "cell_type": "markdown",
   "id": "e0ff7f28",
   "metadata": {},
   "source": [
    "3. Пример: как получить вектор слова\n",
    "\n"
   ]
  },
  {
   "cell_type": "code",
   "execution_count": 20,
   "id": "98ecc04a",
   "metadata": {},
   "outputs": [
    {
     "name": "stdout",
     "output_type": "stream",
     "text": [
      "[ 0.0088  0.044  -0.022   0.0036 -0.0078  0.0118 -0.0605 -0.1067 -0.0035\n",
      "  0.0115]\n"
     ]
    }
   ],
   "source": [
    "vector = model['oshxona']  # 'кухня' по-узбекски\n",
    "print(vector[:10])  # первые 10 элементов вектора\n"
   ]
  },
  {
   "cell_type": "markdown",
   "id": "0ec1a181",
   "metadata": {},
   "source": [
    "🐍 Полный Python-скрипт:\n",
    "\n"
   ]
  },
  {
   "cell_type": "markdown",
   "id": "335a1014",
   "metadata": {},
   "source": [
    "Обучить Word2Vec на твоём корпусе — простой пример\n"
   ]
  },
  {
   "cell_type": "code",
   "execution_count": 22,
   "id": "d88d914b",
   "metadata": {},
   "outputs": [
    {
     "name": "stdout",
     "output_type": "stream",
     "text": [
      "✅ Модель Word2Vec обучена и сохранена в uzbek_word2vec_300d.txt\n"
     ]
    }
   ],
   "source": [
    "from gensim.models import Word2Vec\n",
    "from gensim.utils import simple_preprocess\n",
    "import pandas as pd\n",
    "import requests\n",
    "import os\n",
    "\n",
    "# Скачиваем датасет, если нет\n",
    "url = \"https://huggingface.co/datasets/Sanatbek/Uzbek-restaurant-domain-sentiment-reviews/resolve/main/uzbek_restaurant_supervised_reviews.csv\"\n",
    "csv_filename = \"uz_reviews.csv\"\n",
    "if not os.path.exists(csv_filename):\n",
    "    r = requests.get(url)\n",
    "    with open(csv_filename, 'wb') as f:\n",
    "        f.write(r.content)\n",
    "\n",
    "# Читаем отзывы и токенизируем\n",
    "df = pd.read_csv(csv_filename)\n",
    "reviews = df['review'].dropna().tolist()\n",
    "sentences = [simple_preprocess(text) for text in reviews if text.strip() != \"\"]\n",
    "\n",
    "# Обучаем Word2Vec\n",
    "model = Word2Vec(sentences, vector_size=300, window=5, min_count=2, workers=4)\n",
    "\n",
    "# Сохраняем в формате текста (аналог GloVe)\n",
    "model.wv.save_word2vec_format('uzbek_word2vec_300d.txt', binary=False)\n",
    "\n",
    "print(\"✅ Модель Word2Vec обучена и сохранена в uzbek_word2vec_300d.txt\")\n"
   ]
  },
  {
   "cell_type": "markdown",
   "id": "3c0883a4",
   "metadata": {},
   "source": [
    "### Word2Vec (uzbek_word2vec_300d.txt) получить файл в формате GloVe (glove_words.txt), то есть:"
   ]
  },
  {
   "cell_type": "markdown",
   "id": "531412f4",
   "metadata": {},
   "source": [
    "## Задача: преобразовать uzbek_word2vec_300d.txt в glove_words.txt\n",
    "Часто в word2vec-файлах есть первая строка — заголовок (кол-во слов и размерность), а в GloVe его нет.\n",
    "\n",
    "Поэтому:\n",
    "\n",
    "- Нужно прочитать uzbek_word2vec_300d.txt\n",
    "\n",
    "- Пропустить первую строку (если там заголовок)\n",
    "\n",
    "- Записать остальные строки в новый файл без изменений\n",
    "\n"
   ]
  },
  {
   "cell_type": "code",
   "execution_count": 24,
   "id": "c1cd2121",
   "metadata": {},
   "outputs": [
    {
     "name": "stdout",
     "output_type": "stream",
     "text": [
      "Пропускаем заголовок: 3915 300\n",
      "Файл uzbek_glove_words.txt создан в формате GloVe.\n"
     ]
    }
   ],
   "source": [
    "input_file = 'uzbek_word2vec_300d.txt'\n",
    "output_file = 'uzbek_glove_words.txt'\n",
    "\n",
    "with open(input_file, 'r', encoding='utf-8') as fin, open(output_file, 'w', encoding='utf-8') as fout:\n",
    "    first_line = fin.readline()\n",
    "    # Проверяем, есть ли заголовок (если первая строка содержит два числа)\n",
    "    if len(first_line.strip().split()) == 2:\n",
    "        print(f\"Пропускаем заголовок: {first_line.strip()}\")\n",
    "    else:\n",
    "        # Если заголовка нет, то пишем первую строку\n",
    "        fout.write(first_line)\n",
    "    \n",
    "    # Копируем оставшиеся строки\n",
    "    for line in fin:\n",
    "        fout.write(line)\n",
    "\n",
    "print(f\"Файл {output_file} создан в формате GloVe.\")\n"
   ]
  }
 ],
 "metadata": {
  "kernelspec": {
   "display_name": "Python 3",
   "language": "python",
   "name": "python3"
  },
  "language_info": {
   "codemirror_mode": {
    "name": "ipython",
    "version": 3
   },
   "file_extension": ".py",
   "mimetype": "text/x-python",
   "name": "python",
   "nbconvert_exporter": "python",
   "pygments_lexer": "ipython3",
   "version": "3.7.9"
  }
 },
 "nbformat": 4,
 "nbformat_minor": 5
}
